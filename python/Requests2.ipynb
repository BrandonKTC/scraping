{
 "cells": [
  {
   "cell_type": "markdown",
   "id": "4c51974f",
   "metadata": {},
   "source": [
    "## Authentication And Authorization\n",
    "> ## authentication : who we are\n",
    "\n",
    "> ## authorization : what we can do, given who we are"
   ]
  },
  {
   "cell_type": "code",
   "execution_count": 6,
   "id": "372186dd",
   "metadata": {},
   "outputs": [],
   "source": [
    "import requests as r"
   ]
  },
  {
   "cell_type": "code",
   "execution_count": 1,
   "id": "11b759e3",
   "metadata": {},
   "outputs": [],
   "source": [
    "API_KEY = \"YOUR_API_KEY_HERE\""
   ]
  },
  {
   "cell_type": "code",
   "execution_count": 2,
   "id": "6204234e",
   "metadata": {},
   "outputs": [],
   "source": [
    "url = \"https://api.exchange.coinbase.com/fills\""
   ]
  },
  {
   "cell_type": "code",
   "execution_count": 3,
   "id": "0feb88b7",
   "metadata": {},
   "outputs": [],
   "source": [
    "headers = {\n",
    "    \"Authorization\": f\"Bearer {API_KEY}\",\n",
    "    \"Content-Type\": \"application/json\"\n",
    "}"
   ]
  },
  {
   "cell_type": "code",
   "execution_count": 7,
   "id": "a71923ac",
   "metadata": {},
   "outputs": [
    {
     "data": {
      "text/plain": [
       "<Response [401]>"
      ]
     },
     "execution_count": 7,
     "metadata": {},
     "output_type": "execute_result"
    }
   ],
   "source": [
    "r.get(url, headers=headers)"
   ]
  },
  {
   "cell_type": "code",
   "execution_count": 8,
   "id": "f1047a00",
   "metadata": {},
   "outputs": [],
   "source": [
    "# basix auth -> username, password"
   ]
  },
  {
   "cell_type": "code",
   "execution_count": 9,
   "id": "b3677eb2",
   "metadata": {},
   "outputs": [],
   "source": [
    "auth = (\"user1\", \"pass2\")"
   ]
  },
  {
   "cell_type": "code",
   "execution_count": 10,
   "id": "0d11e236",
   "metadata": {},
   "outputs": [],
   "source": [
    "url = \"https://www.httpbin.org/basic-auth/user1/pass2\""
   ]
  },
  {
   "cell_type": "code",
   "execution_count": 11,
   "id": "2a770606",
   "metadata": {},
   "outputs": [
    {
     "data": {
      "text/plain": [
       "<Response [200]>"
      ]
     },
     "execution_count": 11,
     "metadata": {},
     "output_type": "execute_result"
    }
   ],
   "source": [
    "r.get(url, auth=auth)"
   ]
  },
  {
   "cell_type": "markdown",
   "id": "bad2f24e",
   "metadata": {},
   "source": [
    "### Aside From GET"
   ]
  },
  {
   "cell_type": "code",
   "execution_count": 13,
   "id": "a61de05c",
   "metadata": {},
   "outputs": [
    {
     "data": {
      "text/plain": [
       "{'args': {},\n",
       " 'data': '',\n",
       " 'files': {},\n",
       " 'form': {},\n",
       " 'headers': {'Accept': '*/*',\n",
       "  'Accept-Encoding': 'gzip, deflate, br',\n",
       "  'Content-Length': '0',\n",
       "  'Host': 'httpbin.org',\n",
       "  'User-Agent': 'python-requests/2.28.1',\n",
       "  'X-Amzn-Trace-Id': 'Root=1-64098d89-632e050a44a00db545256570'},\n",
       " 'json': None,\n",
       " 'origin': '154.6.147.40',\n",
       " 'url': 'https://httpbin.org/delete'}"
      ]
     },
     "execution_count": 13,
     "metadata": {},
     "output_type": "execute_result"
    }
   ],
   "source": [
    "r.delete(\"https://httpbin.org/delete\").json()"
   ]
  },
  {
   "cell_type": "code",
   "execution_count": 14,
   "id": "68a43d4e",
   "metadata": {},
   "outputs": [
    {
     "data": {
      "text/plain": [
       "{'args': {},\n",
       " 'data': '',\n",
       " 'files': {},\n",
       " 'form': {},\n",
       " 'headers': {'Accept': '*/*',\n",
       "  'Accept-Encoding': 'gzip, deflate, br',\n",
       "  'Content-Length': '0',\n",
       "  'Host': 'httpbin.org',\n",
       "  'User-Agent': 'python-requests/2.28.1',\n",
       "  'X-Amzn-Trace-Id': 'Root=1-64098ddf-3107e04a48a7e6673a140ee2'},\n",
       " 'json': None,\n",
       " 'origin': '154.6.147.40',\n",
       " 'url': 'https://httpbin.org/put'}"
      ]
     },
     "execution_count": 14,
     "metadata": {},
     "output_type": "execute_result"
    }
   ],
   "source": [
    "r.put(\"https://httpbin.org/put\").json()"
   ]
  },
  {
   "cell_type": "code",
   "execution_count": 15,
   "id": "870cfbaf",
   "metadata": {},
   "outputs": [
    {
     "data": {
      "text/plain": [
       "{'args': {},\n",
       " 'data': '',\n",
       " 'files': {},\n",
       " 'form': {},\n",
       " 'headers': {'Accept': '*/*',\n",
       "  'Accept-Encoding': 'gzip, deflate, br',\n",
       "  'Content-Length': '0',\n",
       "  'Host': 'httpbin.org',\n",
       "  'User-Agent': 'python-requests/2.28.1',\n",
       "  'X-Amzn-Trace-Id': 'Root=1-64098df0-370932142b9de3f55ed5108e'},\n",
       " 'json': None,\n",
       " 'origin': '154.6.147.40',\n",
       " 'url': 'https://httpbin.org/patch'}"
      ]
     },
     "execution_count": 15,
     "metadata": {},
     "output_type": "execute_result"
    }
   ],
   "source": [
    "r.patch(\"https://httpbin.org/patch\").json()"
   ]
  },
  {
   "cell_type": "code",
   "execution_count": 16,
   "id": "dc984595",
   "metadata": {},
   "outputs": [
    {
     "data": {
      "text/plain": [
       "{'args': {},\n",
       " 'data': '',\n",
       " 'files': {},\n",
       " 'form': {},\n",
       " 'headers': {'Accept': '*/*',\n",
       "  'Accept-Encoding': 'gzip, deflate, br',\n",
       "  'Content-Length': '0',\n",
       "  'Host': 'httpbin.org',\n",
       "  'User-Agent': 'python-requests/2.28.1',\n",
       "  'X-Amzn-Trace-Id': 'Root=1-64098dfa-67ab1c0575b823a74903f34f'},\n",
       " 'json': None,\n",
       " 'origin': '154.6.147.40',\n",
       " 'url': 'https://httpbin.org/post'}"
      ]
     },
     "execution_count": 16,
     "metadata": {},
     "output_type": "execute_result"
    }
   ],
   "source": [
    "r.post(\"https://httpbin.org/post\").json()"
   ]
  },
  {
   "cell_type": "markdown",
   "id": "5bcf8fb6",
   "metadata": {},
   "source": [
    "### Posting Data"
   ]
  },
  {
   "cell_type": "code",
   "execution_count": 17,
   "id": "6e8528fd",
   "metadata": {},
   "outputs": [],
   "source": [
    "# client sends data to server via:\n",
    "\n",
    "    # - headers\n",
    "    # - query params\n",
    "    # - body"
   ]
  },
  {
   "cell_type": "code",
   "execution_count": 27,
   "id": "4d1364f6",
   "metadata": {},
   "outputs": [
    {
     "data": {
      "text/plain": [
       "{'args': {},\n",
       " 'data': '{\"key1\": \"value1\", \"key2\": \"a value with spaces and an apostrephe \\'\"}',\n",
       " 'files': {},\n",
       " 'form': {},\n",
       " 'headers': {'Accept': '*/*',\n",
       "  'Accept-Encoding': 'gzip, deflate, br',\n",
       "  'Content-Length': '69',\n",
       "  'Content-Type': 'application/json',\n",
       "  'Host': 'httpbin.org',\n",
       "  'User-Agent': 'python-requests/2.28.1',\n",
       "  'X-Amzn-Trace-Id': 'Root=1-6409900f-0b761fce1ee5f9a14633a54a'},\n",
       " 'json': {'key1': 'value1', 'key2': \"a value with spaces and an apostrephe '\"},\n",
       " 'origin': '154.6.147.40',\n",
       " 'url': 'https://httpbin.org/post'}"
      ]
     },
     "execution_count": 27,
     "metadata": {},
     "output_type": "execute_result"
    }
   ],
   "source": [
    "res = r.post(\"https://httpbin.org/post\", json={\"key1\":\"value1\",\n",
    "                                              \"key2\": \"a value with spaces and an apostrephe '\"})\n",
    "res.json()"
   ]
  },
  {
   "cell_type": "code",
   "execution_count": 28,
   "id": "e001e2ed",
   "metadata": {},
   "outputs": [
    {
     "data": {
      "text/plain": [
       "b'{\"key1\": \"value1\", \"key2\": \"a value with spaces and an apostrephe \\'\"}'"
      ]
     },
     "execution_count": 28,
     "metadata": {},
     "output_type": "execute_result"
    }
   ],
   "source": [
    "res.request.body"
   ]
  }
 ],
 "metadata": {
  "kernelspec": {
   "display_name": "Python 3 (ipykernel)",
   "language": "python",
   "name": "python3"
  },
  "language_info": {
   "codemirror_mode": {
    "name": "ipython",
    "version": 3
   },
   "file_extension": ".py",
   "mimetype": "text/x-python",
   "name": "python",
   "nbconvert_exporter": "python",
   "pygments_lexer": "ipython3",
   "version": "3.9.13"
  }
 },
 "nbformat": 4,
 "nbformat_minor": 5
}
